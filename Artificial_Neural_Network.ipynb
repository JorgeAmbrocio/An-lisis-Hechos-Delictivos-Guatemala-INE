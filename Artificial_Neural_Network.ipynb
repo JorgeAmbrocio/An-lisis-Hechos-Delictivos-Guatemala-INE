{
  "nbformat": 4,
  "nbformat_minor": 0,
  "metadata": {
    "colab": {
      "provenance": []
    },
    "kernelspec": {
      "name": "python3",
      "display_name": "Python 3"
    },
    "language_info": {
      "name": "python"
    }
  },
  "cells": [
    {
      "cell_type": "markdown",
      "source": [
        "# Redes neuronales"
      ],
      "metadata": {
        "id": "JsKJ-4YQkmvb"
      }
    },
    {
      "cell_type": "markdown",
      "source": [],
      "metadata": {
        "id": "27qh2p_Hlri_"
      }
    },
    {
      "cell_type": "code",
      "execution_count": null,
      "metadata": {
        "id": "Ke_xpd4Okhhk"
      },
      "outputs": [],
      "source": [
        "\n",
        "import numpy as np\n",
        "import pandas as pd\n",
        "import tensorflow as tf\n",
        "from sklearn.utils import shuffle\n",
        "from tensorflow.keras.models import Sequential\n",
        "from tensorflow.keras.layers import Dense\n",
        "from sklearn.model_selection import train_test_split\n",
        "import matplotlib.pyplot as plt"
      ]
    },
    {
      "cell_type": "code",
      "source": [
        "# cargar data frame con archivo colab notebooks/Sindicados 2020.xlsx\n",
        "dfSindicados = pd.read_excel('/content/drive/MyDrive/Colab Notebooks/DataSets/Sindicados 2020.xlsx')"
      ],
      "metadata": {
        "id": "tZnHD24Nm8xz"
      },
      "execution_count": null,
      "outputs": []
    },
    {
      "cell_type": "code",
      "source": [
        "# cargar data frame con archivo colab botebooks notebooks/Agraviados 2020.xlsx\n",
        "dfAgraviados = pd.read_excel('/content/drive/MyDrive/Colab Notebooks/DataSets/Agraviados 2020.xlsx')"
      ],
      "metadata": {
        "id": "iMBRrNBjotu5"
      },
      "execution_count": null,
      "outputs": []
    },
    {
      "cell_type": "code",
      "source": [
        "# mostrar primeras filas del conjunto de datos\n",
        "dfSindicados.head()\n"
      ],
      "metadata": {
        "colab": {
          "base_uri": "https://localhost:8080/",
          "height": 256
        },
        "id": "KNJ5yhWxn9qC",
        "outputId": "5bfb23b5-1968-4a85-a0a3-06dfe450cde9"
      },
      "execution_count": null,
      "outputs": [
        {
          "output_type": "execute_result",
          "data": {
            "text/plain": [
              "        núm_corre  año_denuncia  mes_denuncia  día_denuncia  día_sem_denuncia  \\\n",
              "38481      240006          2020             2            13                 4   \n",
              "410019      93682          2020             2            21                 5   \n",
              "50990       79795          2020             7            29                 3   \n",
              "176183      89705          2020             2            27                 4   \n",
              "357823      22023          2020            10            27                 2   \n",
              "\n",
              "        año_hecho  mes_hecho  día_hecho  día_sem_hecho  depto_ocu_hecho  ...  \\\n",
              "38481        9999         99         99              9                1  ...   \n",
              "410019       2019          8         23              5               12  ...   \n",
              "50990        2020          7         29              3               10  ...   \n",
              "176183       2020          2         25              2                1  ...   \n",
              "357823       2020         10          4              7               14  ...   \n",
              "\n",
              "        zona_ocu_hecho  edad_sind  g_edad_60ymás  g_edad_80ymás  \\\n",
              "38481               21        999             12             16   \n",
              "410019              99        999             12             16   \n",
              "50990               99         35              6              6   \n",
              "176183              99        999             12             16   \n",
              "357823              99        999             12             16   \n",
              "\n",
              "        g_edad_de0_80ymás  est_conyugal  sexo_sindicados  delito_cod  \\\n",
              "38481                  18             9                1         231   \n",
              "410019                 18             9                1          11   \n",
              "50990                   8             1                1         227   \n",
              "176183                 18             9                9         311   \n",
              "357823                 18             9                2         901   \n",
              "\n",
              "        mayor_edad  tercera_edad  \n",
              "38481            1             1  \n",
              "410019           1             1  \n",
              "50990            1             0  \n",
              "176183           1             1  \n",
              "357823           1             1  \n",
              "\n",
              "[5 rows x 21 columns]"
            ],
            "text/html": [
              "\n",
              "  <div id=\"df-e3d74c20-78d6-4325-a3fd-169bcd5a8182\" class=\"colab-df-container\">\n",
              "    <div>\n",
              "<style scoped>\n",
              "    .dataframe tbody tr th:only-of-type {\n",
              "        vertical-align: middle;\n",
              "    }\n",
              "\n",
              "    .dataframe tbody tr th {\n",
              "        vertical-align: top;\n",
              "    }\n",
              "\n",
              "    .dataframe thead th {\n",
              "        text-align: right;\n",
              "    }\n",
              "</style>\n",
              "<table border=\"1\" class=\"dataframe\">\n",
              "  <thead>\n",
              "    <tr style=\"text-align: right;\">\n",
              "      <th></th>\n",
              "      <th>núm_corre</th>\n",
              "      <th>año_denuncia</th>\n",
              "      <th>mes_denuncia</th>\n",
              "      <th>día_denuncia</th>\n",
              "      <th>día_sem_denuncia</th>\n",
              "      <th>año_hecho</th>\n",
              "      <th>mes_hecho</th>\n",
              "      <th>día_hecho</th>\n",
              "      <th>día_sem_hecho</th>\n",
              "      <th>depto_ocu_hecho</th>\n",
              "      <th>...</th>\n",
              "      <th>zona_ocu_hecho</th>\n",
              "      <th>edad_sind</th>\n",
              "      <th>g_edad_60ymás</th>\n",
              "      <th>g_edad_80ymás</th>\n",
              "      <th>g_edad_de0_80ymás</th>\n",
              "      <th>est_conyugal</th>\n",
              "      <th>sexo_sindicados</th>\n",
              "      <th>delito_cod</th>\n",
              "      <th>mayor_edad</th>\n",
              "      <th>tercera_edad</th>\n",
              "    </tr>\n",
              "  </thead>\n",
              "  <tbody>\n",
              "    <tr>\n",
              "      <th>38481</th>\n",
              "      <td>240006</td>\n",
              "      <td>2020</td>\n",
              "      <td>2</td>\n",
              "      <td>13</td>\n",
              "      <td>4</td>\n",
              "      <td>9999</td>\n",
              "      <td>99</td>\n",
              "      <td>99</td>\n",
              "      <td>9</td>\n",
              "      <td>1</td>\n",
              "      <td>...</td>\n",
              "      <td>21</td>\n",
              "      <td>999</td>\n",
              "      <td>12</td>\n",
              "      <td>16</td>\n",
              "      <td>18</td>\n",
              "      <td>9</td>\n",
              "      <td>1</td>\n",
              "      <td>231</td>\n",
              "      <td>1</td>\n",
              "      <td>1</td>\n",
              "    </tr>\n",
              "    <tr>\n",
              "      <th>410019</th>\n",
              "      <td>93682</td>\n",
              "      <td>2020</td>\n",
              "      <td>2</td>\n",
              "      <td>21</td>\n",
              "      <td>5</td>\n",
              "      <td>2019</td>\n",
              "      <td>8</td>\n",
              "      <td>23</td>\n",
              "      <td>5</td>\n",
              "      <td>12</td>\n",
              "      <td>...</td>\n",
              "      <td>99</td>\n",
              "      <td>999</td>\n",
              "      <td>12</td>\n",
              "      <td>16</td>\n",
              "      <td>18</td>\n",
              "      <td>9</td>\n",
              "      <td>1</td>\n",
              "      <td>11</td>\n",
              "      <td>1</td>\n",
              "      <td>1</td>\n",
              "    </tr>\n",
              "    <tr>\n",
              "      <th>50990</th>\n",
              "      <td>79795</td>\n",
              "      <td>2020</td>\n",
              "      <td>7</td>\n",
              "      <td>29</td>\n",
              "      <td>3</td>\n",
              "      <td>2020</td>\n",
              "      <td>7</td>\n",
              "      <td>29</td>\n",
              "      <td>3</td>\n",
              "      <td>10</td>\n",
              "      <td>...</td>\n",
              "      <td>99</td>\n",
              "      <td>35</td>\n",
              "      <td>6</td>\n",
              "      <td>6</td>\n",
              "      <td>8</td>\n",
              "      <td>1</td>\n",
              "      <td>1</td>\n",
              "      <td>227</td>\n",
              "      <td>1</td>\n",
              "      <td>0</td>\n",
              "    </tr>\n",
              "    <tr>\n",
              "      <th>176183</th>\n",
              "      <td>89705</td>\n",
              "      <td>2020</td>\n",
              "      <td>2</td>\n",
              "      <td>27</td>\n",
              "      <td>4</td>\n",
              "      <td>2020</td>\n",
              "      <td>2</td>\n",
              "      <td>25</td>\n",
              "      <td>2</td>\n",
              "      <td>1</td>\n",
              "      <td>...</td>\n",
              "      <td>99</td>\n",
              "      <td>999</td>\n",
              "      <td>12</td>\n",
              "      <td>16</td>\n",
              "      <td>18</td>\n",
              "      <td>9</td>\n",
              "      <td>9</td>\n",
              "      <td>311</td>\n",
              "      <td>1</td>\n",
              "      <td>1</td>\n",
              "    </tr>\n",
              "    <tr>\n",
              "      <th>357823</th>\n",
              "      <td>22023</td>\n",
              "      <td>2020</td>\n",
              "      <td>10</td>\n",
              "      <td>27</td>\n",
              "      <td>2</td>\n",
              "      <td>2020</td>\n",
              "      <td>10</td>\n",
              "      <td>4</td>\n",
              "      <td>7</td>\n",
              "      <td>14</td>\n",
              "      <td>...</td>\n",
              "      <td>99</td>\n",
              "      <td>999</td>\n",
              "      <td>12</td>\n",
              "      <td>16</td>\n",
              "      <td>18</td>\n",
              "      <td>9</td>\n",
              "      <td>2</td>\n",
              "      <td>901</td>\n",
              "      <td>1</td>\n",
              "      <td>1</td>\n",
              "    </tr>\n",
              "  </tbody>\n",
              "</table>\n",
              "<p>5 rows × 21 columns</p>\n",
              "</div>\n",
              "    <div class=\"colab-df-buttons\">\n",
              "\n",
              "  <div class=\"colab-df-container\">\n",
              "    <button class=\"colab-df-convert\" onclick=\"convertToInteractive('df-e3d74c20-78d6-4325-a3fd-169bcd5a8182')\"\n",
              "            title=\"Convert this dataframe to an interactive table.\"\n",
              "            style=\"display:none;\">\n",
              "\n",
              "  <svg xmlns=\"http://www.w3.org/2000/svg\" height=\"24px\" viewBox=\"0 -960 960 960\">\n",
              "    <path d=\"M120-120v-720h720v720H120Zm60-500h600v-160H180v160Zm220 220h160v-160H400v160Zm0 220h160v-160H400v160ZM180-400h160v-160H180v160Zm440 0h160v-160H620v160ZM180-180h160v-160H180v160Zm440 0h160v-160H620v160Z\"/>\n",
              "  </svg>\n",
              "    </button>\n",
              "\n",
              "  <style>\n",
              "    .colab-df-container {\n",
              "      display:flex;\n",
              "      gap: 12px;\n",
              "    }\n",
              "\n",
              "    .colab-df-convert {\n",
              "      background-color: #E8F0FE;\n",
              "      border: none;\n",
              "      border-radius: 50%;\n",
              "      cursor: pointer;\n",
              "      display: none;\n",
              "      fill: #1967D2;\n",
              "      height: 32px;\n",
              "      padding: 0 0 0 0;\n",
              "      width: 32px;\n",
              "    }\n",
              "\n",
              "    .colab-df-convert:hover {\n",
              "      background-color: #E2EBFA;\n",
              "      box-shadow: 0px 1px 2px rgba(60, 64, 67, 0.3), 0px 1px 3px 1px rgba(60, 64, 67, 0.15);\n",
              "      fill: #174EA6;\n",
              "    }\n",
              "\n",
              "    .colab-df-buttons div {\n",
              "      margin-bottom: 4px;\n",
              "    }\n",
              "\n",
              "    [theme=dark] .colab-df-convert {\n",
              "      background-color: #3B4455;\n",
              "      fill: #D2E3FC;\n",
              "    }\n",
              "\n",
              "    [theme=dark] .colab-df-convert:hover {\n",
              "      background-color: #434B5C;\n",
              "      box-shadow: 0px 1px 3px 1px rgba(0, 0, 0, 0.15);\n",
              "      filter: drop-shadow(0px 1px 2px rgba(0, 0, 0, 0.3));\n",
              "      fill: #FFFFFF;\n",
              "    }\n",
              "  </style>\n",
              "\n",
              "    <script>\n",
              "      const buttonEl =\n",
              "        document.querySelector('#df-e3d74c20-78d6-4325-a3fd-169bcd5a8182 button.colab-df-convert');\n",
              "      buttonEl.style.display =\n",
              "        google.colab.kernel.accessAllowed ? 'block' : 'none';\n",
              "\n",
              "      async function convertToInteractive(key) {\n",
              "        const element = document.querySelector('#df-e3d74c20-78d6-4325-a3fd-169bcd5a8182');\n",
              "        const dataTable =\n",
              "          await google.colab.kernel.invokeFunction('convertToInteractive',\n",
              "                                                    [key], {});\n",
              "        if (!dataTable) return;\n",
              "\n",
              "        const docLinkHtml = 'Like what you see? Visit the ' +\n",
              "          '<a target=\"_blank\" href=https://colab.research.google.com/notebooks/data_table.ipynb>data table notebook</a>'\n",
              "          + ' to learn more about interactive tables.';\n",
              "        element.innerHTML = '';\n",
              "        dataTable['output_type'] = 'display_data';\n",
              "        await google.colab.output.renderOutput(dataTable, element);\n",
              "        const docLink = document.createElement('div');\n",
              "        docLink.innerHTML = docLinkHtml;\n",
              "        element.appendChild(docLink);\n",
              "      }\n",
              "    </script>\n",
              "  </div>\n",
              "\n",
              "\n",
              "<div id=\"df-50c3bd07-b5fa-43d1-8573-1bf132650fad\">\n",
              "  <button class=\"colab-df-quickchart\" onclick=\"quickchart('df-50c3bd07-b5fa-43d1-8573-1bf132650fad')\"\n",
              "            title=\"Suggest charts\"\n",
              "            style=\"display:none;\">\n",
              "\n",
              "<svg xmlns=\"http://www.w3.org/2000/svg\" height=\"24px\"viewBox=\"0 0 24 24\"\n",
              "     width=\"24px\">\n",
              "    <g>\n",
              "        <path d=\"M19 3H5c-1.1 0-2 .9-2 2v14c0 1.1.9 2 2 2h14c1.1 0 2-.9 2-2V5c0-1.1-.9-2-2-2zM9 17H7v-7h2v7zm4 0h-2V7h2v10zm4 0h-2v-4h2v4z\"/>\n",
              "    </g>\n",
              "</svg>\n",
              "  </button>\n",
              "\n",
              "<style>\n",
              "  .colab-df-quickchart {\n",
              "      --bg-color: #E8F0FE;\n",
              "      --fill-color: #1967D2;\n",
              "      --hover-bg-color: #E2EBFA;\n",
              "      --hover-fill-color: #174EA6;\n",
              "      --disabled-fill-color: #AAA;\n",
              "      --disabled-bg-color: #DDD;\n",
              "  }\n",
              "\n",
              "  [theme=dark] .colab-df-quickchart {\n",
              "      --bg-color: #3B4455;\n",
              "      --fill-color: #D2E3FC;\n",
              "      --hover-bg-color: #434B5C;\n",
              "      --hover-fill-color: #FFFFFF;\n",
              "      --disabled-bg-color: #3B4455;\n",
              "      --disabled-fill-color: #666;\n",
              "  }\n",
              "\n",
              "  .colab-df-quickchart {\n",
              "    background-color: var(--bg-color);\n",
              "    border: none;\n",
              "    border-radius: 50%;\n",
              "    cursor: pointer;\n",
              "    display: none;\n",
              "    fill: var(--fill-color);\n",
              "    height: 32px;\n",
              "    padding: 0;\n",
              "    width: 32px;\n",
              "  }\n",
              "\n",
              "  .colab-df-quickchart:hover {\n",
              "    background-color: var(--hover-bg-color);\n",
              "    box-shadow: 0 1px 2px rgba(60, 64, 67, 0.3), 0 1px 3px 1px rgba(60, 64, 67, 0.15);\n",
              "    fill: var(--button-hover-fill-color);\n",
              "  }\n",
              "\n",
              "  .colab-df-quickchart-complete:disabled,\n",
              "  .colab-df-quickchart-complete:disabled:hover {\n",
              "    background-color: var(--disabled-bg-color);\n",
              "    fill: var(--disabled-fill-color);\n",
              "    box-shadow: none;\n",
              "  }\n",
              "\n",
              "  .colab-df-spinner {\n",
              "    border: 2px solid var(--fill-color);\n",
              "    border-color: transparent;\n",
              "    border-bottom-color: var(--fill-color);\n",
              "    animation:\n",
              "      spin 1s steps(1) infinite;\n",
              "  }\n",
              "\n",
              "  @keyframes spin {\n",
              "    0% {\n",
              "      border-color: transparent;\n",
              "      border-bottom-color: var(--fill-color);\n",
              "      border-left-color: var(--fill-color);\n",
              "    }\n",
              "    20% {\n",
              "      border-color: transparent;\n",
              "      border-left-color: var(--fill-color);\n",
              "      border-top-color: var(--fill-color);\n",
              "    }\n",
              "    30% {\n",
              "      border-color: transparent;\n",
              "      border-left-color: var(--fill-color);\n",
              "      border-top-color: var(--fill-color);\n",
              "      border-right-color: var(--fill-color);\n",
              "    }\n",
              "    40% {\n",
              "      border-color: transparent;\n",
              "      border-right-color: var(--fill-color);\n",
              "      border-top-color: var(--fill-color);\n",
              "    }\n",
              "    60% {\n",
              "      border-color: transparent;\n",
              "      border-right-color: var(--fill-color);\n",
              "    }\n",
              "    80% {\n",
              "      border-color: transparent;\n",
              "      border-right-color: var(--fill-color);\n",
              "      border-bottom-color: var(--fill-color);\n",
              "    }\n",
              "    90% {\n",
              "      border-color: transparent;\n",
              "      border-bottom-color: var(--fill-color);\n",
              "    }\n",
              "  }\n",
              "</style>\n",
              "\n",
              "  <script>\n",
              "    async function quickchart(key) {\n",
              "      const quickchartButtonEl =\n",
              "        document.querySelector('#' + key + ' button');\n",
              "      quickchartButtonEl.disabled = true;  // To prevent multiple clicks.\n",
              "      quickchartButtonEl.classList.add('colab-df-spinner');\n",
              "      try {\n",
              "        const charts = await google.colab.kernel.invokeFunction(\n",
              "            'suggestCharts', [key], {});\n",
              "      } catch (error) {\n",
              "        console.error('Error during call to suggestCharts:', error);\n",
              "      }\n",
              "      quickchartButtonEl.classList.remove('colab-df-spinner');\n",
              "      quickchartButtonEl.classList.add('colab-df-quickchart-complete');\n",
              "    }\n",
              "    (() => {\n",
              "      let quickchartButtonEl =\n",
              "        document.querySelector('#df-50c3bd07-b5fa-43d1-8573-1bf132650fad button');\n",
              "      quickchartButtonEl.style.display =\n",
              "        google.colab.kernel.accessAllowed ? 'block' : 'none';\n",
              "    })();\n",
              "  </script>\n",
              "</div>\n",
              "\n",
              "    </div>\n",
              "  </div>\n"
            ],
            "application/vnd.google.colaboratory.intrinsic+json": {
              "type": "dataframe",
              "variable_name": "dfSindicados"
            }
          },
          "metadata": {},
          "execution_count": 12
        }
      ]
    },
    {
      "cell_type": "code",
      "source": [
        "# mostrar primeras filas\n",
        "dfAgraviados.head()"
      ],
      "metadata": {
        "colab": {
          "base_uri": "https://localhost:8080/",
          "height": 226
        },
        "id": "3ZWxfsz0-ImP",
        "outputId": "784edb82-6dcd-4523-a150-cf0e4be6255c"
      },
      "execution_count": null,
      "outputs": [
        {
          "output_type": "execute_result",
          "data": {
            "text/plain": [
              "   núm_corre  año_denuncia  mes_denuncia  día_denuncia  día_sem_denuncia  \\\n",
              "0          1          2020             3             3                 2   \n",
              "1          2          2020             3             6                 5   \n",
              "2          3          2020             5            13                 3   \n",
              "3          4          2020             5            20                 3   \n",
              "4          5          2020             5            20                 3   \n",
              "\n",
              "   año_hecho  mes_hecho  dia_sem_hecho  día_hecho  depto_ocu_hecho  \\\n",
              "0       2019          9              7          1               18   \n",
              "1       2018          1              1          1               21   \n",
              "2       2019          1              2          1                5   \n",
              "3       2019          1              2          1                1   \n",
              "4       2019          1              2          1                1   \n",
              "\n",
              "   mupio_ocu_hecho  zona_ocu_hecho  edad_agrav  g_edad_60ymás  g_edad_80ymás  \\\n",
              "0             1801              99         999             12             16   \n",
              "1             2102              99          53              9              9   \n",
              "2              501              99          56             10             10   \n",
              "3              101              99         999             12             16   \n",
              "4              101              99          25              4              4   \n",
              "\n",
              "   g_edad_de0_80ymás  est_conyugal  sexo_agraviados  delito_cod  \n",
              "0                 18             2                1         177  \n",
              "1                 11             2                1         235  \n",
              "2                 12             1                2         177  \n",
              "3                 18             1                2         254  \n",
              "4                  6             1                2         200  "
            ],
            "text/html": [
              "\n",
              "  <div id=\"df-0ac353cb-6b70-4231-ba47-d0771fbb120b\" class=\"colab-df-container\">\n",
              "    <div>\n",
              "<style scoped>\n",
              "    .dataframe tbody tr th:only-of-type {\n",
              "        vertical-align: middle;\n",
              "    }\n",
              "\n",
              "    .dataframe tbody tr th {\n",
              "        vertical-align: top;\n",
              "    }\n",
              "\n",
              "    .dataframe thead th {\n",
              "        text-align: right;\n",
              "    }\n",
              "</style>\n",
              "<table border=\"1\" class=\"dataframe\">\n",
              "  <thead>\n",
              "    <tr style=\"text-align: right;\">\n",
              "      <th></th>\n",
              "      <th>núm_corre</th>\n",
              "      <th>año_denuncia</th>\n",
              "      <th>mes_denuncia</th>\n",
              "      <th>día_denuncia</th>\n",
              "      <th>día_sem_denuncia</th>\n",
              "      <th>año_hecho</th>\n",
              "      <th>mes_hecho</th>\n",
              "      <th>dia_sem_hecho</th>\n",
              "      <th>día_hecho</th>\n",
              "      <th>depto_ocu_hecho</th>\n",
              "      <th>mupio_ocu_hecho</th>\n",
              "      <th>zona_ocu_hecho</th>\n",
              "      <th>edad_agrav</th>\n",
              "      <th>g_edad_60ymás</th>\n",
              "      <th>g_edad_80ymás</th>\n",
              "      <th>g_edad_de0_80ymás</th>\n",
              "      <th>est_conyugal</th>\n",
              "      <th>sexo_agraviados</th>\n",
              "      <th>delito_cod</th>\n",
              "    </tr>\n",
              "  </thead>\n",
              "  <tbody>\n",
              "    <tr>\n",
              "      <th>0</th>\n",
              "      <td>1</td>\n",
              "      <td>2020</td>\n",
              "      <td>3</td>\n",
              "      <td>3</td>\n",
              "      <td>2</td>\n",
              "      <td>2019</td>\n",
              "      <td>9</td>\n",
              "      <td>7</td>\n",
              "      <td>1</td>\n",
              "      <td>18</td>\n",
              "      <td>1801</td>\n",
              "      <td>99</td>\n",
              "      <td>999</td>\n",
              "      <td>12</td>\n",
              "      <td>16</td>\n",
              "      <td>18</td>\n",
              "      <td>2</td>\n",
              "      <td>1</td>\n",
              "      <td>177</td>\n",
              "    </tr>\n",
              "    <tr>\n",
              "      <th>1</th>\n",
              "      <td>2</td>\n",
              "      <td>2020</td>\n",
              "      <td>3</td>\n",
              "      <td>6</td>\n",
              "      <td>5</td>\n",
              "      <td>2018</td>\n",
              "      <td>1</td>\n",
              "      <td>1</td>\n",
              "      <td>1</td>\n",
              "      <td>21</td>\n",
              "      <td>2102</td>\n",
              "      <td>99</td>\n",
              "      <td>53</td>\n",
              "      <td>9</td>\n",
              "      <td>9</td>\n",
              "      <td>11</td>\n",
              "      <td>2</td>\n",
              "      <td>1</td>\n",
              "      <td>235</td>\n",
              "    </tr>\n",
              "    <tr>\n",
              "      <th>2</th>\n",
              "      <td>3</td>\n",
              "      <td>2020</td>\n",
              "      <td>5</td>\n",
              "      <td>13</td>\n",
              "      <td>3</td>\n",
              "      <td>2019</td>\n",
              "      <td>1</td>\n",
              "      <td>2</td>\n",
              "      <td>1</td>\n",
              "      <td>5</td>\n",
              "      <td>501</td>\n",
              "      <td>99</td>\n",
              "      <td>56</td>\n",
              "      <td>10</td>\n",
              "      <td>10</td>\n",
              "      <td>12</td>\n",
              "      <td>1</td>\n",
              "      <td>2</td>\n",
              "      <td>177</td>\n",
              "    </tr>\n",
              "    <tr>\n",
              "      <th>3</th>\n",
              "      <td>4</td>\n",
              "      <td>2020</td>\n",
              "      <td>5</td>\n",
              "      <td>20</td>\n",
              "      <td>3</td>\n",
              "      <td>2019</td>\n",
              "      <td>1</td>\n",
              "      <td>2</td>\n",
              "      <td>1</td>\n",
              "      <td>1</td>\n",
              "      <td>101</td>\n",
              "      <td>99</td>\n",
              "      <td>999</td>\n",
              "      <td>12</td>\n",
              "      <td>16</td>\n",
              "      <td>18</td>\n",
              "      <td>1</td>\n",
              "      <td>2</td>\n",
              "      <td>254</td>\n",
              "    </tr>\n",
              "    <tr>\n",
              "      <th>4</th>\n",
              "      <td>5</td>\n",
              "      <td>2020</td>\n",
              "      <td>5</td>\n",
              "      <td>20</td>\n",
              "      <td>3</td>\n",
              "      <td>2019</td>\n",
              "      <td>1</td>\n",
              "      <td>2</td>\n",
              "      <td>1</td>\n",
              "      <td>1</td>\n",
              "      <td>101</td>\n",
              "      <td>99</td>\n",
              "      <td>25</td>\n",
              "      <td>4</td>\n",
              "      <td>4</td>\n",
              "      <td>6</td>\n",
              "      <td>1</td>\n",
              "      <td>2</td>\n",
              "      <td>200</td>\n",
              "    </tr>\n",
              "  </tbody>\n",
              "</table>\n",
              "</div>\n",
              "    <div class=\"colab-df-buttons\">\n",
              "\n",
              "  <div class=\"colab-df-container\">\n",
              "    <button class=\"colab-df-convert\" onclick=\"convertToInteractive('df-0ac353cb-6b70-4231-ba47-d0771fbb120b')\"\n",
              "            title=\"Convert this dataframe to an interactive table.\"\n",
              "            style=\"display:none;\">\n",
              "\n",
              "  <svg xmlns=\"http://www.w3.org/2000/svg\" height=\"24px\" viewBox=\"0 -960 960 960\">\n",
              "    <path d=\"M120-120v-720h720v720H120Zm60-500h600v-160H180v160Zm220 220h160v-160H400v160Zm0 220h160v-160H400v160ZM180-400h160v-160H180v160Zm440 0h160v-160H620v160ZM180-180h160v-160H180v160Zm440 0h160v-160H620v160Z\"/>\n",
              "  </svg>\n",
              "    </button>\n",
              "\n",
              "  <style>\n",
              "    .colab-df-container {\n",
              "      display:flex;\n",
              "      gap: 12px;\n",
              "    }\n",
              "\n",
              "    .colab-df-convert {\n",
              "      background-color: #E8F0FE;\n",
              "      border: none;\n",
              "      border-radius: 50%;\n",
              "      cursor: pointer;\n",
              "      display: none;\n",
              "      fill: #1967D2;\n",
              "      height: 32px;\n",
              "      padding: 0 0 0 0;\n",
              "      width: 32px;\n",
              "    }\n",
              "\n",
              "    .colab-df-convert:hover {\n",
              "      background-color: #E2EBFA;\n",
              "      box-shadow: 0px 1px 2px rgba(60, 64, 67, 0.3), 0px 1px 3px 1px rgba(60, 64, 67, 0.15);\n",
              "      fill: #174EA6;\n",
              "    }\n",
              "\n",
              "    .colab-df-buttons div {\n",
              "      margin-bottom: 4px;\n",
              "    }\n",
              "\n",
              "    [theme=dark] .colab-df-convert {\n",
              "      background-color: #3B4455;\n",
              "      fill: #D2E3FC;\n",
              "    }\n",
              "\n",
              "    [theme=dark] .colab-df-convert:hover {\n",
              "      background-color: #434B5C;\n",
              "      box-shadow: 0px 1px 3px 1px rgba(0, 0, 0, 0.15);\n",
              "      filter: drop-shadow(0px 1px 2px rgba(0, 0, 0, 0.3));\n",
              "      fill: #FFFFFF;\n",
              "    }\n",
              "  </style>\n",
              "\n",
              "    <script>\n",
              "      const buttonEl =\n",
              "        document.querySelector('#df-0ac353cb-6b70-4231-ba47-d0771fbb120b button.colab-df-convert');\n",
              "      buttonEl.style.display =\n",
              "        google.colab.kernel.accessAllowed ? 'block' : 'none';\n",
              "\n",
              "      async function convertToInteractive(key) {\n",
              "        const element = document.querySelector('#df-0ac353cb-6b70-4231-ba47-d0771fbb120b');\n",
              "        const dataTable =\n",
              "          await google.colab.kernel.invokeFunction('convertToInteractive',\n",
              "                                                    [key], {});\n",
              "        if (!dataTable) return;\n",
              "\n",
              "        const docLinkHtml = 'Like what you see? Visit the ' +\n",
              "          '<a target=\"_blank\" href=https://colab.research.google.com/notebooks/data_table.ipynb>data table notebook</a>'\n",
              "          + ' to learn more about interactive tables.';\n",
              "        element.innerHTML = '';\n",
              "        dataTable['output_type'] = 'display_data';\n",
              "        await google.colab.output.renderOutput(dataTable, element);\n",
              "        const docLink = document.createElement('div');\n",
              "        docLink.innerHTML = docLinkHtml;\n",
              "        element.appendChild(docLink);\n",
              "      }\n",
              "    </script>\n",
              "  </div>\n",
              "\n",
              "\n",
              "<div id=\"df-b9741c8e-1e49-4827-ae61-8fed5daee423\">\n",
              "  <button class=\"colab-df-quickchart\" onclick=\"quickchart('df-b9741c8e-1e49-4827-ae61-8fed5daee423')\"\n",
              "            title=\"Suggest charts\"\n",
              "            style=\"display:none;\">\n",
              "\n",
              "<svg xmlns=\"http://www.w3.org/2000/svg\" height=\"24px\"viewBox=\"0 0 24 24\"\n",
              "     width=\"24px\">\n",
              "    <g>\n",
              "        <path d=\"M19 3H5c-1.1 0-2 .9-2 2v14c0 1.1.9 2 2 2h14c1.1 0 2-.9 2-2V5c0-1.1-.9-2-2-2zM9 17H7v-7h2v7zm4 0h-2V7h2v10zm4 0h-2v-4h2v4z\"/>\n",
              "    </g>\n",
              "</svg>\n",
              "  </button>\n",
              "\n",
              "<style>\n",
              "  .colab-df-quickchart {\n",
              "      --bg-color: #E8F0FE;\n",
              "      --fill-color: #1967D2;\n",
              "      --hover-bg-color: #E2EBFA;\n",
              "      --hover-fill-color: #174EA6;\n",
              "      --disabled-fill-color: #AAA;\n",
              "      --disabled-bg-color: #DDD;\n",
              "  }\n",
              "\n",
              "  [theme=dark] .colab-df-quickchart {\n",
              "      --bg-color: #3B4455;\n",
              "      --fill-color: #D2E3FC;\n",
              "      --hover-bg-color: #434B5C;\n",
              "      --hover-fill-color: #FFFFFF;\n",
              "      --disabled-bg-color: #3B4455;\n",
              "      --disabled-fill-color: #666;\n",
              "  }\n",
              "\n",
              "  .colab-df-quickchart {\n",
              "    background-color: var(--bg-color);\n",
              "    border: none;\n",
              "    border-radius: 50%;\n",
              "    cursor: pointer;\n",
              "    display: none;\n",
              "    fill: var(--fill-color);\n",
              "    height: 32px;\n",
              "    padding: 0;\n",
              "    width: 32px;\n",
              "  }\n",
              "\n",
              "  .colab-df-quickchart:hover {\n",
              "    background-color: var(--hover-bg-color);\n",
              "    box-shadow: 0 1px 2px rgba(60, 64, 67, 0.3), 0 1px 3px 1px rgba(60, 64, 67, 0.15);\n",
              "    fill: var(--button-hover-fill-color);\n",
              "  }\n",
              "\n",
              "  .colab-df-quickchart-complete:disabled,\n",
              "  .colab-df-quickchart-complete:disabled:hover {\n",
              "    background-color: var(--disabled-bg-color);\n",
              "    fill: var(--disabled-fill-color);\n",
              "    box-shadow: none;\n",
              "  }\n",
              "\n",
              "  .colab-df-spinner {\n",
              "    border: 2px solid var(--fill-color);\n",
              "    border-color: transparent;\n",
              "    border-bottom-color: var(--fill-color);\n",
              "    animation:\n",
              "      spin 1s steps(1) infinite;\n",
              "  }\n",
              "\n",
              "  @keyframes spin {\n",
              "    0% {\n",
              "      border-color: transparent;\n",
              "      border-bottom-color: var(--fill-color);\n",
              "      border-left-color: var(--fill-color);\n",
              "    }\n",
              "    20% {\n",
              "      border-color: transparent;\n",
              "      border-left-color: var(--fill-color);\n",
              "      border-top-color: var(--fill-color);\n",
              "    }\n",
              "    30% {\n",
              "      border-color: transparent;\n",
              "      border-left-color: var(--fill-color);\n",
              "      border-top-color: var(--fill-color);\n",
              "      border-right-color: var(--fill-color);\n",
              "    }\n",
              "    40% {\n",
              "      border-color: transparent;\n",
              "      border-right-color: var(--fill-color);\n",
              "      border-top-color: var(--fill-color);\n",
              "    }\n",
              "    60% {\n",
              "      border-color: transparent;\n",
              "      border-right-color: var(--fill-color);\n",
              "    }\n",
              "    80% {\n",
              "      border-color: transparent;\n",
              "      border-right-color: var(--fill-color);\n",
              "      border-bottom-color: var(--fill-color);\n",
              "    }\n",
              "    90% {\n",
              "      border-color: transparent;\n",
              "      border-bottom-color: var(--fill-color);\n",
              "    }\n",
              "  }\n",
              "</style>\n",
              "\n",
              "  <script>\n",
              "    async function quickchart(key) {\n",
              "      const quickchartButtonEl =\n",
              "        document.querySelector('#' + key + ' button');\n",
              "      quickchartButtonEl.disabled = true;  // To prevent multiple clicks.\n",
              "      quickchartButtonEl.classList.add('colab-df-spinner');\n",
              "      try {\n",
              "        const charts = await google.colab.kernel.invokeFunction(\n",
              "            'suggestCharts', [key], {});\n",
              "      } catch (error) {\n",
              "        console.error('Error during call to suggestCharts:', error);\n",
              "      }\n",
              "      quickchartButtonEl.classList.remove('colab-df-spinner');\n",
              "      quickchartButtonEl.classList.add('colab-df-quickchart-complete');\n",
              "    }\n",
              "    (() => {\n",
              "      let quickchartButtonEl =\n",
              "        document.querySelector('#df-b9741c8e-1e49-4827-ae61-8fed5daee423 button');\n",
              "      quickchartButtonEl.style.display =\n",
              "        google.colab.kernel.accessAllowed ? 'block' : 'none';\n",
              "    })();\n",
              "  </script>\n",
              "</div>\n",
              "\n",
              "    </div>\n",
              "  </div>\n"
            ],
            "application/vnd.google.colaboratory.intrinsic+json": {
              "type": "dataframe",
              "variable_name": "dfAgraviados"
            }
          },
          "metadata": {},
          "execution_count": 5
        }
      ]
    },
    {
      "cell_type": "code",
      "source": [
        "# inyectar aleatoriedad\n",
        "dfSindicados = shuffle(dfSindicados)\n",
        "dfAgraviados = shuffle(dfAgraviados)"
      ],
      "metadata": {
        "id": "i4HAcpb_9OMa"
      },
      "execution_count": null,
      "outputs": []
    },
    {
      "cell_type": "markdown",
      "source": [
        "### Preparar sindicados"
      ],
      "metadata": {
        "id": "lg9MN67hrOL7"
      }
    },
    {
      "cell_type": "code",
      "source": [
        "print(dfSindicados.shape)\n",
        "\n",
        "# Sindicados\n",
        "# Crear columna para saber si es mayor de edad o no\n",
        "dfSindicados['mayor_edad'] = np.where(dfSindicados['edad_sind'] >= 18, 1, 0)\n",
        "\n",
        "# Crear columna para saber si es de la tercera edad o no\n",
        "dfSindicados['tercera_edad'] = np.where(dfSindicados['edad_sind'] >= 65, 1, 0)\n",
        "\n",
        "# Filtrar delitos de la categoría robo\n",
        "dfSindicados_ = dfSindicados[(dfSindicados['delito_cod'] >= 183)  & (dfSindicados['delito_cod'] <= 190)]\n",
        "dfSindicados_.shape\n",
        "\n",
        "x = dfSindicados_[['delito_cod','est_conyugal','depto_ocu_hecho','día_sem_denuncia']]\n",
        "y = dfSindicados_['sexo_sindicados']\n",
        "\n",
        "x_2 = dfSindicados[['delito_cod','sexo_sindicados','depto_ocu_hecho','día_sem_denuncia']]\n",
        "y_2 = dfSindicados['est_conyugal']\n",
        "\n",
        "x_4 = dfSindicados[['delito_cod','sexo_sindicados','depto_ocu_hecho','día_sem_denuncia','zona_ocu_hecho', 'día_sem_hecho']]\n",
        "y_4 = dfSindicados['tercera_edad']\n"
      ],
      "metadata": {
        "colab": {
          "base_uri": "https://localhost:8080/"
        },
        "id": "gbvGRoRK-S-k",
        "outputId": "81c1fb68-0790-4782-a867-5651132eafbe"
      },
      "execution_count": null,
      "outputs": [
        {
          "output_type": "stream",
          "name": "stdout",
          "text": [
            "(427668, 21)\n"
          ]
        }
      ]
    },
    {
      "cell_type": "markdown",
      "source": [
        "### Preparar agraviados"
      ],
      "metadata": {
        "id": "mHrKF3ScsxVZ"
      }
    },
    {
      "cell_type": "code",
      "source": [
        "print(dfAgraviados.shape)\n",
        "\n",
        "# Agraviados\n",
        "# crear columna para saber si es mayor de edad o no\n",
        "dfAgraviados['mayor_edad'] = np.where(dfAgraviados['edad_agrav'] >= 18, 1, 0)\n",
        "\n",
        "# crear columna para saber si es de la tercera edad o no\n",
        "dfAgraviados['tercera_edad'] = np.where(dfAgraviados['edad_agrav'] >= 65, 1, 0)\n",
        "\n",
        "# filtrar delitos de la categoría robo\n",
        "dfAgraviados_ = dfAgraviados[(dfAgraviados['delito_cod'] >= 183)  & (dfAgraviados['delito_cod'] <= 190)]\n",
        "\n",
        "# filtrar solo los elementos en los que delito_cod sea mayor 183 y menor a 190, robos menores\n",
        "dfSindicados_ = dfSindicados_[(dfSindicados_['depto_ocu_hecho'] == 1) ]\n",
        "dfAgraviados_.shape\n",
        "\n",
        "x_1 = dfAgraviados_[['delito_cod','est_conyugal','depto_ocu_hecho','día_sem_denuncia']]\n",
        "y_1 = dfAgraviados_['sexo_agraviados']\n",
        "\n",
        "x_3 = dfAgraviados_[['delito_cod','sexo_agraviados','depto_ocu_hecho','est_conyugal', 'zona_ocu_hecho','dia_sem_hecho']]\n",
        "y_3 = dfAgraviados_['tercera_edad']"
      ],
      "metadata": {
        "colab": {
          "base_uri": "https://localhost:8080/"
        },
        "id": "Za6sf4qtrNDk",
        "outputId": "45b7ecab-d316-462d-a66a-89347f6163fe"
      },
      "execution_count": null,
      "outputs": [
        {
          "output_type": "stream",
          "name": "stdout",
          "text": [
            "(365031, 21)\n"
          ]
        }
      ]
    },
    {
      "cell_type": "markdown",
      "source": [
        "## Crear modelo de red neuronal artificial"
      ],
      "metadata": {
        "id": "QwE_3ihXA6tN"
      }
    },
    {
      "cell_type": "code",
      "source": [
        "\n",
        "X_train, X_test, y_train, y_test  = train_test_split(x, y, test_size = 0.2, random_state = 42)\n",
        "\n",
        "# crear modelo\n",
        "model = Sequential()\n",
        "model.add(Dense(16, input_dim = 4, activation = 'relu'))\n",
        "model.add(Dense(8, activation='relu'))\n",
        "model.add(Dense(4, activation='relu'))\n",
        "model.add(Dense(2, activation='relu'))\n",
        "model.add(Dense(1, activation='sigmoid'))"
      ],
      "metadata": {
        "colab": {
          "base_uri": "https://localhost:8080/"
        },
        "id": "uU1iNSd1BEKr",
        "outputId": "92793363-8115-4877-81a1-279a062a4179"
      },
      "execution_count": null,
      "outputs": [
        {
          "output_type": "stream",
          "name": "stderr",
          "text": [
            "/usr/local/lib/python3.10/dist-packages/keras/src/layers/core/dense.py:87: UserWarning: Do not pass an `input_shape`/`input_dim` argument to a layer. When using Sequential models, prefer using an `Input(shape)` object as the first layer in the model instead.\n",
            "  super().__init__(activity_regularizer=activity_regularizer, **kwargs)\n"
          ]
        }
      ]
    },
    {
      "cell_type": "code",
      "source": [
        "# compilar modelo\n",
        "model.compile(loss ='binary_crossentropy', optimizer ='adam', metrics =['accuracy'])"
      ],
      "metadata": {
        "id": "G5-O5pumBH1L"
      },
      "execution_count": null,
      "outputs": []
    },
    {
      "cell_type": "code",
      "source": [
        "# entrenar y testear\n",
        "model.fit(X_train, y_train, epochs = 10, batch_size = 64, validation_data=(X_test, y_test))"
      ],
      "metadata": {
        "colab": {
          "base_uri": "https://localhost:8080/"
        },
        "id": "u-2ega4bBLcn",
        "outputId": "d1a93782-5e7b-4781-ddc9-ef1d5c275c32"
      },
      "execution_count": null,
      "outputs": [
        {
          "output_type": "stream",
          "name": "stdout",
          "text": [
            "Epoch 1/10\n",
            "\u001b[1m389/389\u001b[0m \u001b[32m━━━━━━━━━━━━━━━━━━━━\u001b[0m\u001b[37m\u001b[0m \u001b[1m3s\u001b[0m 3ms/step - accuracy: 0.3825 - loss: 0.2318 - val_accuracy: 0.3931 - val_loss: -1.1394\n",
            "Epoch 2/10\n",
            "\u001b[1m389/389\u001b[0m \u001b[32m━━━━━━━━━━━━━━━━━━━━\u001b[0m\u001b[37m\u001b[0m \u001b[1m2s\u001b[0m 5ms/step - accuracy: 0.3943 - loss: -1.5827 - val_accuracy: 0.3931 - val_loss: -2.9317\n",
            "Epoch 3/10\n",
            "\u001b[1m389/389\u001b[0m \u001b[32m━━━━━━━━━━━━━━━━━━━━\u001b[0m\u001b[37m\u001b[0m \u001b[1m1s\u001b[0m 4ms/step - accuracy: 0.3920 - loss: -3.3692 - val_accuracy: 0.3931 - val_loss: -4.6818\n",
            "Epoch 4/10\n",
            "\u001b[1m389/389\u001b[0m \u001b[32m━━━━━━━━━━━━━━━━━━━━\u001b[0m\u001b[37m\u001b[0m \u001b[1m2s\u001b[0m 2ms/step - accuracy: 0.3929 - loss: -5.0913 - val_accuracy: 0.3931 - val_loss: -6.4002\n",
            "Epoch 5/10\n",
            "\u001b[1m389/389\u001b[0m \u001b[32m━━━━━━━━━━━━━━━━━━━━\u001b[0m\u001b[37m\u001b[0m \u001b[1m1s\u001b[0m 2ms/step - accuracy: 0.3916 - loss: -6.8196 - val_accuracy: 0.3931 - val_loss: -8.0950\n",
            "Epoch 6/10\n",
            "\u001b[1m389/389\u001b[0m \u001b[32m━━━━━━━━━━━━━━━━━━━━\u001b[0m\u001b[37m\u001b[0m \u001b[1m1s\u001b[0m 2ms/step - accuracy: 0.3937 - loss: -8.4625 - val_accuracy: 0.3931 - val_loss: -9.7742\n",
            "Epoch 7/10\n",
            "\u001b[1m389/389\u001b[0m \u001b[32m━━━━━━━━━━━━━━━━━━━━\u001b[0m\u001b[37m\u001b[0m \u001b[1m1s\u001b[0m 2ms/step - accuracy: 0.3896 - loss: -10.2472 - val_accuracy: 0.3931 - val_loss: -11.4429\n",
            "Epoch 8/10\n",
            "\u001b[1m389/389\u001b[0m \u001b[32m━━━━━━━━━━━━━━━━━━━━\u001b[0m\u001b[37m\u001b[0m \u001b[1m1s\u001b[0m 2ms/step - accuracy: 0.3900 - loss: -11.8652 - val_accuracy: 0.3931 - val_loss: -13.1092\n",
            "Epoch 9/10\n",
            "\u001b[1m389/389\u001b[0m \u001b[32m━━━━━━━━━━━━━━━━━━━━\u001b[0m\u001b[37m\u001b[0m \u001b[1m1s\u001b[0m 2ms/step - accuracy: 0.3924 - loss: -13.4869 - val_accuracy: 0.3931 - val_loss: -14.7716\n",
            "Epoch 10/10\n",
            "\u001b[1m389/389\u001b[0m \u001b[32m━━━━━━━━━━━━━━━━━━━━\u001b[0m\u001b[37m\u001b[0m \u001b[1m1s\u001b[0m 2ms/step - accuracy: 0.3883 - loss: -15.2430 - val_accuracy: 0.3931 - val_loss: -16.4347\n"
          ]
        },
        {
          "output_type": "execute_result",
          "data": {
            "text/plain": [
              "<keras.src.callbacks.history.History at 0x7cf093f96620>"
            ]
          },
          "metadata": {},
          "execution_count": 41
        }
      ]
    },
    {
      "cell_type": "code",
      "source": [
        "# obtener presición del modelo\n",
        "loss, acc = model.evaluate(X_test, y_test)\n",
        "print(acc*100)"
      ],
      "metadata": {
        "colab": {
          "base_uri": "https://localhost:8080/"
        },
        "id": "4teHM-zrFJX_",
        "outputId": "dd0c98b4-3b2f-4ec0-e780-e9c2c3cd91cb"
      },
      "execution_count": null,
      "outputs": [
        {
          "output_type": "stream",
          "name": "stdout",
          "text": [
            "\u001b[1m195/195\u001b[0m \u001b[32m━━━━━━━━━━━━━━━━━━━━\u001b[0m\u001b[37m\u001b[0m \u001b[1m0s\u001b[0m 1ms/step - accuracy: 0.4045 - loss: -16.1104\n",
            "39.30524289608002\n"
          ]
        }
      ]
    },
    {
      "cell_type": "code",
      "source": [
        "# [['delito_cod','est_conyugal','depto_ocu_hecho','día_sem_denuncia']]\n",
        "\n",
        "# Predicción de casos nuevos\n",
        "vuelo_nuevo_01 = np.array([[183, 3, 5, 2]])\n",
        "\n",
        "# predecir con el modelo\n",
        "prediccion = model.predict(vuelo_nuevo_01)\n",
        "print(prediccion)\n",
        "\n",
        "# predecir otro valor\n",
        "vuelo_nuevo_02 = np.array([[185, 2, 1, 3]])\n",
        "prediccion = model.predict(vuelo_nuevo_02)\n",
        "print(prediccion)\n",
        "\n",
        "# predecir otro valor\n",
        "vuelo_nuevo_03 = np.array([[189, 4, 1, 1]])\n",
        "prediccion = model.predict(vuelo_nuevo_03)\n",
        "print(prediccion)"
      ],
      "metadata": {
        "id": "8OFqCIusFqvo",
        "colab": {
          "base_uri": "https://localhost:8080/"
        },
        "outputId": "73da547e-50cd-46eb-82a8-daa028bca429"
      },
      "execution_count": null,
      "outputs": [
        {
          "output_type": "stream",
          "name": "stdout",
          "text": [
            "\u001b[1m1/1\u001b[0m \u001b[32m━━━━━━━━━━━━━━━━━━━━\u001b[0m\u001b[37m\u001b[0m \u001b[1m0s\u001b[0m 64ms/step\n",
            "[[0.97811425]]\n",
            "\u001b[1m1/1\u001b[0m \u001b[32m━━━━━━━━━━━━━━━━━━━━\u001b[0m\u001b[37m\u001b[0m \u001b[1m0s\u001b[0m 19ms/step\n",
            "[[0.97811425]]\n",
            "\u001b[1m1/1\u001b[0m \u001b[32m━━━━━━━━━━━━━━━━━━━━\u001b[0m\u001b[37m\u001b[0m \u001b[1m0s\u001b[0m 19ms/step\n",
            "[[0.97811425]]\n"
          ]
        }
      ]
    },
    {
      "cell_type": "markdown",
      "source": [
        "## Modelo 2, predicción de sexo del agraviado"
      ],
      "metadata": {
        "id": "zwdHiPbxGqNp"
      }
    },
    {
      "cell_type": "code",
      "source": [
        "# Crear separación de datos para ejecución dle algoritmo\n",
        "\n",
        "#X_train, X_test, y_train, y_test  = train_test_split(x, y, test_size = 0.2, random_state = 42)\n",
        "X_train, X_test, y_train, y_test  = train_test_split(x_1, y_1, test_size = 0.2, random_state = 42)\n",
        "\n",
        "# crear modelo\n",
        "model = Sequential()\n",
        "model.add(Dense(16, input_dim = 4, activation = 'relu'))\n",
        "model.add(Dense(8, activation='relu'))\n",
        "model.add(Dense(4, activation='relu'))\n",
        "model.add(Dense(2, activation='relu'))\n",
        "model.add(Dense(1, activation='sigmoid'))\n",
        "\n",
        "\n",
        "# compilar modelo\n",
        "model.compile(loss ='binary_crossentropy', optimizer ='adam', metrics =['accuracy'])"
      ],
      "metadata": {
        "id": "kS6WUYCFGPnc",
        "colab": {
          "base_uri": "https://localhost:8080/"
        },
        "outputId": "290de49b-cf13-49a4-bec5-d075484ad5ed"
      },
      "execution_count": null,
      "outputs": [
        {
          "output_type": "stream",
          "name": "stderr",
          "text": [
            "/usr/local/lib/python3.10/dist-packages/keras/src/layers/core/dense.py:87: UserWarning: Do not pass an `input_shape`/`input_dim` argument to a layer. When using Sequential models, prefer using an `Input(shape)` object as the first layer in the model instead.\n",
            "  super().__init__(activity_regularizer=activity_regularizer, **kwargs)\n"
          ]
        }
      ]
    },
    {
      "cell_type": "code",
      "source": [
        "# entrenar y testear\n",
        "model.fit(X_train, y_train, epochs = 7, batch_size = 64, validation_data=(X_test, y_test))"
      ],
      "metadata": {
        "colab": {
          "base_uri": "https://localhost:8080/"
        },
        "id": "6aVcWMvvIBxP",
        "outputId": "cb6fc9a0-eabf-4db6-a3ef-4dc4971a2130"
      },
      "execution_count": null,
      "outputs": [
        {
          "output_type": "stream",
          "name": "stdout",
          "text": [
            "Epoch 1/7\n",
            "\u001b[1m330/330\u001b[0m \u001b[32m━━━━━━━━━━━━━━━━━━━━\u001b[0m\u001b[37m\u001b[0m \u001b[1m2s\u001b[0m 3ms/step - accuracy: 0.4005 - loss: 3.6243 - val_accuracy: 0.6527 - val_loss: 0.3910\n",
            "Epoch 2/7\n",
            "\u001b[1m330/330\u001b[0m \u001b[32m━━━━━━━━━━━━━━━━━━━━\u001b[0m\u001b[37m\u001b[0m \u001b[1m1s\u001b[0m 2ms/step - accuracy: 0.6497 - loss: 0.3168 - val_accuracy: 0.6530 - val_loss: 0.1006\n",
            "Epoch 3/7\n",
            "\u001b[1m330/330\u001b[0m \u001b[32m━━━━━━━━━━━━━━━━━━━━\u001b[0m\u001b[37m\u001b[0m \u001b[1m1s\u001b[0m 2ms/step - accuracy: 0.6461 - loss: 0.0395 - val_accuracy: 0.6530 - val_loss: -0.1647\n",
            "Epoch 4/7\n",
            "\u001b[1m330/330\u001b[0m \u001b[32m━━━━━━━━━━━━━━━━━━━━\u001b[0m\u001b[37m\u001b[0m \u001b[1m1s\u001b[0m 2ms/step - accuracy: 0.6463 - loss: -0.2264 - val_accuracy: 0.6530 - val_loss: -0.4072\n",
            "Epoch 5/7\n",
            "\u001b[1m330/330\u001b[0m \u001b[32m━━━━━━━━━━━━━━━━━━━━\u001b[0m\u001b[37m\u001b[0m \u001b[1m1s\u001b[0m 2ms/step - accuracy: 0.6562 - loss: -0.4511 - val_accuracy: 0.6530 - val_loss: -0.6301\n",
            "Epoch 6/7\n",
            "\u001b[1m330/330\u001b[0m \u001b[32m━━━━━━━━━━━━━━━━━━━━\u001b[0m\u001b[37m\u001b[0m \u001b[1m1s\u001b[0m 2ms/step - accuracy: 0.6464 - loss: -0.6693 - val_accuracy: 0.6530 - val_loss: -0.8400\n",
            "Epoch 7/7\n",
            "\u001b[1m330/330\u001b[0m \u001b[32m━━━━━━━━━━━━━━━━━━━━\u001b[0m\u001b[37m\u001b[0m \u001b[1m1s\u001b[0m 2ms/step - accuracy: 0.6437 - loss: -0.9037 - val_accuracy: 0.6530 - val_loss: -1.0377\n"
          ]
        },
        {
          "output_type": "execute_result",
          "data": {
            "text/plain": [
              "<keras.src.callbacks.history.History at 0x7cf09471cd30>"
            ]
          },
          "metadata": {},
          "execution_count": 45
        }
      ]
    },
    {
      "cell_type": "code",
      "source": [
        "# obtener presición del modelo\n",
        "loss, acc = model.evaluate(X_test, y_test)\n",
        "print(acc*100)"
      ],
      "metadata": {
        "colab": {
          "base_uri": "https://localhost:8080/"
        },
        "id": "j1WD4ohINLdr",
        "outputId": "1a8873f5-76ea-4f3d-c00e-a927d57e3994"
      },
      "execution_count": null,
      "outputs": [
        {
          "output_type": "stream",
          "name": "stdout",
          "text": [
            "\u001b[1m165/165\u001b[0m \u001b[32m━━━━━━━━━━━━━━━━━━━━\u001b[0m\u001b[37m\u001b[0m \u001b[1m0s\u001b[0m 1ms/step - accuracy: 0.6561 - loss: -1.0149\n",
            "65.3030276298523\n"
          ]
        }
      ]
    },
    {
      "cell_type": "code",
      "source": [
        "# [['delito_cod','est_conyugal','depto_ocu_hecho','día_sem_denuncia']]\n",
        "\n",
        "# Predicción de casos nuevos\n",
        "vuelo_nuevo_01 = np.array([[183, 3, 5, 2]])\n",
        "\n",
        "# predecir con el modelo\n",
        "prediccion = model.predict(vuelo_nuevo_01)\n",
        "print(prediccion)\n",
        "\n",
        "# predecir otro valor\n",
        "vuelo_nuevo_02 = np.array([[185, 2, 1, 3]])\n",
        "prediccion = model.predict(vuelo_nuevo_02)\n",
        "print(prediccion)\n",
        "\n",
        "# predecir otro valor\n",
        "vuelo_nuevo_03 = np.array([[189, 4, 1, 1]])\n",
        "prediccion = model.predict(vuelo_nuevo_03)\n",
        "print(prediccion)"
      ],
      "metadata": {
        "colab": {
          "base_uri": "https://localhost:8080/"
        },
        "id": "1Ml-j7npIRQc",
        "outputId": "3955dd96-3fdf-43cd-db74-cd44f98fa681"
      },
      "execution_count": null,
      "outputs": [
        {
          "output_type": "stream",
          "name": "stdout",
          "text": [
            "\u001b[1m1/1\u001b[0m \u001b[32m━━━━━━━━━━━━━━━━━━━━\u001b[0m\u001b[37m\u001b[0m \u001b[1m0s\u001b[0m 66ms/step\n",
            "[[0.8833973]]\n",
            "\u001b[1m1/1\u001b[0m \u001b[32m━━━━━━━━━━━━━━━━━━━━\u001b[0m\u001b[37m\u001b[0m \u001b[1m0s\u001b[0m 20ms/step\n",
            "[[0.8833973]]\n",
            "\u001b[1m1/1\u001b[0m \u001b[32m━━━━━━━━━━━━━━━━━━━━\u001b[0m\u001b[37m\u001b[0m \u001b[1m0s\u001b[0m 20ms/step\n",
            "[[0.8833973]]\n"
          ]
        }
      ]
    },
    {
      "cell_type": "markdown",
      "source": [
        "## Modelo 03 - Predicción tercera edad agraviados"
      ],
      "metadata": {
        "id": "vVlqVjDja965"
      }
    },
    {
      "cell_type": "code",
      "source": [
        "# Crear separación de datos para ejecución dle algoritmo\n",
        "\n",
        "X_train, X_test, y_train, y_test  = train_test_split(x_3, y_3, test_size = 0.2, random_state = 42)\n",
        "\n",
        "# crear modelo\n",
        "model = Sequential()\n",
        "model.add(Dense(16, input_dim = 6, activation = 'relu'))\n",
        "model.add(Dense(8, activation='relu'))\n",
        "model.add(Dense(4, activation='relu'))\n",
        "model.add(Dense(2, activation='relu'))\n",
        "model.add(Dense(1, activation='sigmoid'))\n",
        "\n",
        "\n",
        "# compilar modelo\n",
        "model.compile(loss ='binary_crossentropy', optimizer ='adam', metrics =['accuracy'])"
      ],
      "metadata": {
        "colab": {
          "base_uri": "https://localhost:8080/"
        },
        "id": "6p8rbasRbBqb",
        "outputId": "5178092a-6c2f-4497-9066-26ee55041ca9"
      },
      "execution_count": null,
      "outputs": [
        {
          "output_type": "stream",
          "name": "stderr",
          "text": [
            "/usr/local/lib/python3.10/dist-packages/keras/src/layers/core/dense.py:87: UserWarning: Do not pass an `input_shape`/`input_dim` argument to a layer. When using Sequential models, prefer using an `Input(shape)` object as the first layer in the model instead.\n",
            "  super().__init__(activity_regularizer=activity_regularizer, **kwargs)\n"
          ]
        }
      ]
    },
    {
      "cell_type": "code",
      "source": [
        "# entrenar y testear\n",
        "model.fit(X_train, y_train, epochs = 8, batch_size = 64, validation_data=(X_test, y_test))"
      ],
      "metadata": {
        "colab": {
          "base_uri": "https://localhost:8080/"
        },
        "id": "-QdRyVKtbK9F",
        "outputId": "cf2d17e3-da1b-4b3f-d787-6a703ba71d68"
      },
      "execution_count": null,
      "outputs": [
        {
          "output_type": "stream",
          "name": "stdout",
          "text": [
            "Epoch 1/8\n",
            "\u001b[1m330/330\u001b[0m \u001b[32m━━━━━━━━━━━━━━━━━━━━\u001b[0m\u001b[37m\u001b[0m \u001b[1m2s\u001b[0m 3ms/step - accuracy: 0.6130 - loss: 0.7441 - val_accuracy: 0.7017 - val_loss: 0.6356\n",
            "Epoch 2/8\n",
            "\u001b[1m330/330\u001b[0m \u001b[32m━━━━━━━━━━━━━━━━━━━━\u001b[0m\u001b[37m\u001b[0m \u001b[1m1s\u001b[0m 2ms/step - accuracy: 0.6890 - loss: 0.6395 - val_accuracy: 0.7057 - val_loss: 0.6139\n",
            "Epoch 3/8\n",
            "\u001b[1m330/330\u001b[0m \u001b[32m━━━━━━━━━━━━━━━━━━━━\u001b[0m\u001b[37m\u001b[0m \u001b[1m1s\u001b[0m 2ms/step - accuracy: 0.7074 - loss: 0.6130 - val_accuracy: 0.7045 - val_loss: 0.6056\n",
            "Epoch 4/8\n",
            "\u001b[1m330/330\u001b[0m \u001b[32m━━━━━━━━━━━━━━━━━━━━\u001b[0m\u001b[37m\u001b[0m \u001b[1m1s\u001b[0m 2ms/step - accuracy: 0.7243 - loss: 0.5935 - val_accuracy: 0.7661 - val_loss: 0.5543\n",
            "Epoch 5/8\n",
            "\u001b[1m330/330\u001b[0m \u001b[32m━━━━━━━━━━━━━━━━━━━━\u001b[0m\u001b[37m\u001b[0m \u001b[1m1s\u001b[0m 2ms/step - accuracy: 0.7558 - loss: 0.5593 - val_accuracy: 0.7669 - val_loss: 0.5464\n",
            "Epoch 6/8\n",
            "\u001b[1m330/330\u001b[0m \u001b[32m━━━━━━━━━━━━━━━━━━━━\u001b[0m\u001b[37m\u001b[0m \u001b[1m1s\u001b[0m 2ms/step - accuracy: 0.7544 - loss: 0.5547 - val_accuracy: 0.7657 - val_loss: 0.5400\n",
            "Epoch 7/8\n",
            "\u001b[1m330/330\u001b[0m \u001b[32m━━━━━━━━━━━━━━━━━━━━\u001b[0m\u001b[37m\u001b[0m \u001b[1m1s\u001b[0m 2ms/step - accuracy: 0.7605 - loss: 0.5467 - val_accuracy: 0.7534 - val_loss: 0.5444\n",
            "Epoch 8/8\n",
            "\u001b[1m330/330\u001b[0m \u001b[32m━━━━━━━━━━━━━━━━━━━━\u001b[0m\u001b[37m\u001b[0m \u001b[1m1s\u001b[0m 2ms/step - accuracy: 0.7570 - loss: 0.5470 - val_accuracy: 0.7657 - val_loss: 0.5362\n"
          ]
        },
        {
          "output_type": "execute_result",
          "data": {
            "text/plain": [
              "<keras.src.callbacks.history.History at 0x7cf09471f7f0>"
            ]
          },
          "metadata": {},
          "execution_count": 49
        }
      ]
    },
    {
      "cell_type": "code",
      "source": [
        "# obtener presición del modelo\n",
        "loss, acc = model.evaluate(X_test, y_test)\n",
        "print(acc*100)"
      ],
      "metadata": {
        "colab": {
          "base_uri": "https://localhost:8080/"
        },
        "id": "hpAND9Q-vXKP",
        "outputId": "c78cd2dc-cd95-41ef-c82d-e1cb16de1457"
      },
      "execution_count": null,
      "outputs": [
        {
          "output_type": "stream",
          "name": "stdout",
          "text": [
            "\u001b[1m165/165\u001b[0m \u001b[32m━━━━━━━━━━━━━━━━━━━━\u001b[0m\u001b[37m\u001b[0m \u001b[1m0s\u001b[0m 1ms/step - accuracy: 0.7558 - loss: 0.5482\n",
            "76.57197117805481\n"
          ]
        }
      ]
    },
    {
      "cell_type": "code",
      "source": [
        "# Predicción de casos nuevos\n",
        "vuelo_nuevo_01 = np.array([[188, 1, 1, 4, 7, 3]])\n",
        "\n",
        "# predecir con el modelo\n",
        "prediccion = model.predict(vuelo_nuevo_01)\n",
        "print(prediccion)\n",
        "\n",
        "# predecir otro valor\n",
        "vuelo_nuevo_02 = np.array([[185, 2, 5, 1, 8, 1]])\n",
        "prediccion = model.predict(vuelo_nuevo_02)\n",
        "print(prediccion)\n",
        "\n",
        "# predecir otro valor\n",
        "vuelo_nuevo_03 = np.array([[183, 2, 3, 1, 15, 3]])\n",
        "prediccion = model.predict(vuelo_nuevo_03)\n",
        "print(prediccion)\n"
      ],
      "metadata": {
        "colab": {
          "base_uri": "https://localhost:8080/"
        },
        "id": "1OhTGPkZO-si",
        "outputId": "593d9448-f15d-42d9-a1f4-ca8374149e5f"
      },
      "execution_count": null,
      "outputs": [
        {
          "output_type": "stream",
          "name": "stderr",
          "text": [
            "WARNING:tensorflow:5 out of the last 19 calls to <function TensorFlowTrainer.make_predict_function.<locals>.one_step_on_data_distributed at 0x7cf091b54160> triggered tf.function retracing. Tracing is expensive and the excessive number of tracings could be due to (1) creating @tf.function repeatedly in a loop, (2) passing tensors with different shapes, (3) passing Python objects instead of tensors. For (1), please define your @tf.function outside of the loop. For (2), @tf.function has reduce_retracing=True option that can avoid unnecessary retracing. For (3), please refer to https://www.tensorflow.org/guide/function#controlling_retracing and https://www.tensorflow.org/api_docs/python/tf/function for  more details.\n"
          ]
        },
        {
          "output_type": "stream",
          "name": "stdout",
          "text": [
            "\u001b[1m1/1\u001b[0m \u001b[32m━━━━━━━━━━━━━━━━━━━━\u001b[0m\u001b[37m\u001b[0m \u001b[1m0s\u001b[0m 72ms/step\n",
            "[[0.24319075]]\n",
            "\u001b[1m1/1\u001b[0m \u001b[32m━━━━━━━━━━━━━━━━━━━━\u001b[0m\u001b[37m\u001b[0m \u001b[1m0s\u001b[0m 19ms/step\n",
            "[[0.19832045]]\n",
            "\u001b[1m1/1\u001b[0m \u001b[32m━━━━━━━━━━━━━━━━━━━━\u001b[0m\u001b[37m\u001b[0m \u001b[1m0s\u001b[0m 27ms/step\n",
            "[[0.20167246]]\n"
          ]
        }
      ]
    },
    {
      "cell_type": "markdown",
      "source": [
        "## Modelo 04 - Predicción de tercera edad para sindicados"
      ],
      "metadata": {
        "id": "RNU_2DYz5Biu"
      }
    },
    {
      "cell_type": "code",
      "source": [
        "# Crear separación de datos para ejecución dle algoritmo\n",
        "\n",
        "X_train, X_test, y_train, y_test  = train_test_split(x_4, y_4, test_size = 0.2, random_state = 42)\n",
        "\n",
        "# crear modelo\n",
        "model = Sequential()\n",
        "model.add(Dense(16, input_dim = 6, activation = 'relu'))\n",
        "model.add(Dense(8, activation='relu'))\n",
        "model.add(Dense(4, activation='relu'))\n",
        "model.add(Dense(2, activation='relu'))\n",
        "model.add(Dense(1, activation='sigmoid'))\n",
        "\n",
        "\n",
        "# compilar modelo\n",
        "model.compile(loss ='binary_crossentropy', optimizer ='adam', metrics =['accuracy'])"
      ],
      "metadata": {
        "colab": {
          "base_uri": "https://localhost:8080/"
        },
        "id": "ll--9zzf5I5A",
        "outputId": "eedfad46-ab25-44e0-e269-bd4bb7d518a5"
      },
      "execution_count": null,
      "outputs": [
        {
          "output_type": "stream",
          "name": "stderr",
          "text": [
            "/usr/local/lib/python3.10/dist-packages/keras/src/layers/core/dense.py:87: UserWarning: Do not pass an `input_shape`/`input_dim` argument to a layer. When using Sequential models, prefer using an `Input(shape)` object as the first layer in the model instead.\n",
            "  super().__init__(activity_regularizer=activity_regularizer, **kwargs)\n"
          ]
        }
      ]
    },
    {
      "cell_type": "code",
      "source": [
        "# entrenar y testear\n",
        "historial = model.fit(X_train, y_train, epochs = 8, batch_size = 64, validation_data=(X_test, y_test))"
      ],
      "metadata": {
        "colab": {
          "base_uri": "https://localhost:8080/"
        },
        "id": "ZkL1LPY15McQ",
        "outputId": "8a9039ed-a7d0-418b-ebe5-75e200ab4fa3"
      },
      "execution_count": null,
      "outputs": [
        {
          "output_type": "stream",
          "name": "stdout",
          "text": [
            "Epoch 1/8\n",
            "\u001b[1m5346/5346\u001b[0m \u001b[32m━━━━━━━━━━━━━━━━━━━━\u001b[0m\u001b[37m\u001b[0m \u001b[1m15s\u001b[0m 3ms/step - accuracy: 0.7981 - loss: 0.5926 - val_accuracy: 0.8057 - val_loss: 0.4388\n",
            "Epoch 2/8\n",
            "\u001b[1m5346/5346\u001b[0m \u001b[32m━━━━━━━━━━━━━━━━━━━━\u001b[0m\u001b[37m\u001b[0m \u001b[1m20s\u001b[0m 3ms/step - accuracy: 0.8036 - loss: 0.4419 - val_accuracy: 0.8057 - val_loss: 0.4388\n",
            "Epoch 3/8\n",
            "\u001b[1m5346/5346\u001b[0m \u001b[32m━━━━━━━━━━━━━━━━━━━━\u001b[0m\u001b[37m\u001b[0m \u001b[1m13s\u001b[0m 2ms/step - accuracy: 0.8029 - loss: 0.4420 - val_accuracy: 0.8057 - val_loss: 0.4377\n",
            "Epoch 4/8\n",
            "\u001b[1m5346/5346\u001b[0m \u001b[32m━━━━━━━━━━━━━━━━━━━━\u001b[0m\u001b[37m\u001b[0m \u001b[1m13s\u001b[0m 2ms/step - accuracy: 0.8033 - loss: 0.4412 - val_accuracy: 0.8057 - val_loss: 0.4378\n",
            "Epoch 5/8\n",
            "\u001b[1m5346/5346\u001b[0m \u001b[32m━━━━━━━━━━━━━━━━━━━━\u001b[0m\u001b[37m\u001b[0m \u001b[1m13s\u001b[0m 2ms/step - accuracy: 0.8041 - loss: 0.4397 - val_accuracy: 0.8057 - val_loss: 0.4374\n",
            "Epoch 6/8\n",
            "\u001b[1m5346/5346\u001b[0m \u001b[32m━━━━━━━━━━━━━━━━━━━━\u001b[0m\u001b[37m\u001b[0m \u001b[1m22s\u001b[0m 3ms/step - accuracy: 0.8033 - loss: 0.4405 - val_accuracy: 0.8057 - val_loss: 0.4384\n",
            "Epoch 7/8\n",
            "\u001b[1m5346/5346\u001b[0m \u001b[32m━━━━━━━━━━━━━━━━━━━━\u001b[0m\u001b[37m\u001b[0m \u001b[1m13s\u001b[0m 2ms/step - accuracy: 0.8031 - loss: 0.4406 - val_accuracy: 0.8057 - val_loss: 0.4371\n",
            "Epoch 8/8\n",
            "\u001b[1m5346/5346\u001b[0m \u001b[32m━━━━━━━━━━━━━━━━━━━━\u001b[0m\u001b[37m\u001b[0m \u001b[1m13s\u001b[0m 2ms/step - accuracy: 0.8041 - loss: 0.4394 - val_accuracy: 0.8057 - val_loss: 0.4368\n"
          ]
        }
      ]
    },
    {
      "cell_type": "code",
      "source": [
        "# obtener presición del modelo\n",
        "loss, acc = model.evaluate(X_test, y_test)\n",
        "print(acc*100)"
      ],
      "metadata": {
        "colab": {
          "base_uri": "https://localhost:8080/"
        },
        "id": "OC-JujMl5Ox4",
        "outputId": "53e42b8b-9528-4ee0-ff6e-1283b7f981ea"
      },
      "execution_count": null,
      "outputs": [
        {
          "output_type": "stream",
          "name": "stdout",
          "text": [
            "\u001b[1m2673/2673\u001b[0m \u001b[32m━━━━━━━━━━━━━━━━━━━━\u001b[0m\u001b[37m\u001b[0m \u001b[1m3s\u001b[0m 1ms/step - accuracy: 0.8007 - loss: 0.4426\n",
            "80.22657632827759\n"
          ]
        }
      ]
    },
    {
      "cell_type": "code",
      "source": [
        "# predicción de un valor nuevo\n",
        "# x_4 = dfSindicados[['delito_cod','sexo_sindicados','depto_ocu_hecho','día_sem_denuncia','zona_ocu_hecho', 'día_sem_hecho']]\n",
        "# crear objeto nuevo\n",
        "vuelo_nuevo_01 = np.array([[188, 1, 1, 4, 7, 3]])\n",
        "\n",
        "# predecir con el modelo\n",
        "prediccion = model.predict(vuelo_nuevo_01)\n",
        "print(prediccion)\n",
        "\n",
        "# predecir otro valor\n",
        "vuelo_nuevo_02 = np.array([[185, 2, 5, 1, 8, 1]])\n",
        "prediccion = model.predict(vuelo_nuevo_02)\n",
        "print(prediccion)\n",
        "\n",
        "# predecir otro valor\n",
        "vuelo_nuevo_03 = np.array([[183, 2, 3, 1, 15, 3]])\n",
        "prediccion = model.predict(vuelo_nuevo_03)\n",
        "print(prediccion)"
      ],
      "metadata": {
        "colab": {
          "base_uri": "https://localhost:8080/"
        },
        "id": "3S8-jFTtE1yU",
        "outputId": "521e02d8-0640-4c5e-f9cf-4c677c3fd696"
      },
      "execution_count": null,
      "outputs": [
        {
          "output_type": "stream",
          "name": "stdout",
          "text": [
            "\u001b[1m1/1\u001b[0m \u001b[32m━━━━━━━━━━━━━━━━━━━━\u001b[0m\u001b[37m\u001b[0m \u001b[1m0s\u001b[0m 22ms/step\n",
            "[[0.7225446]]\n",
            "\u001b[1m1/1\u001b[0m \u001b[32m━━━━━━━━━━━━━━━━━━━━\u001b[0m\u001b[37m\u001b[0m \u001b[1m0s\u001b[0m 31ms/step\n",
            "[[0.83651894]]\n",
            "\u001b[1m1/1\u001b[0m \u001b[32m━━━━━━━━━━━━━━━━━━━━\u001b[0m\u001b[37m\u001b[0m \u001b[1m0s\u001b[0m 37ms/step\n",
            "[[0.8393722]]\n"
          ]
        }
      ]
    },
    {
      "source": [
        "# Graficar la pérdida\n",
        "plt.plot(historial.history['loss'])\n",
        "plt.plot(historial.history['val_loss'])\n",
        "plt.title('Pérdida del modelo')\n",
        "plt.ylabel('Pérdida')\n",
        "plt.xlabel('Época')\n",
        "plt.legend(['Entrenamiento', 'Validación'], loc='upper right')\n",
        "plt.show()\n",
        "\n",
        "# Graficar la precisión\n",
        "plt.plot(historial.history['accuracy'])\n",
        "plt.plot(historial.history['val_accuracy'])\n",
        "plt.title('Precisión del modelo')\n",
        "plt.ylabel('Precisión')\n",
        "plt.xlabel('Época')\n",
        "plt.legend(['Entrenamiento', 'Validación'], loc='lower right')\n",
        "plt.show()"
      ],
      "cell_type": "code",
      "metadata": {
        "colab": {
          "base_uri": "https://localhost:8080/",
          "height": 211
        },
        "id": "8IUdBViH7xMW",
        "outputId": "47b600fe-9634-4cee-cdff-1baf5c4179ce"
      },
      "execution_count": null,
      "outputs": [
        {
          "output_type": "error",
          "ename": "NameError",
          "evalue": "name 'historial' is not defined",
          "traceback": [
            "\u001b[0;31m---------------------------------------------------------------------------\u001b[0m",
            "\u001b[0;31mNameError\u001b[0m                                 Traceback (most recent call last)",
            "\u001b[0;32m<ipython-input-9-b29899360e1f>\u001b[0m in \u001b[0;36m<cell line: 2>\u001b[0;34m()\u001b[0m\n\u001b[1;32m      1\u001b[0m \u001b[0;31m# Graficar la pérdida\u001b[0m\u001b[0;34m\u001b[0m\u001b[0;34m\u001b[0m\u001b[0m\n\u001b[0;32m----> 2\u001b[0;31m \u001b[0mplt\u001b[0m\u001b[0;34m.\u001b[0m\u001b[0mplot\u001b[0m\u001b[0;34m(\u001b[0m\u001b[0mhistorial\u001b[0m\u001b[0;34m.\u001b[0m\u001b[0mhistory\u001b[0m\u001b[0;34m[\u001b[0m\u001b[0;34m'loss'\u001b[0m\u001b[0;34m]\u001b[0m\u001b[0;34m)\u001b[0m\u001b[0;34m\u001b[0m\u001b[0;34m\u001b[0m\u001b[0m\n\u001b[0m\u001b[1;32m      3\u001b[0m \u001b[0mplt\u001b[0m\u001b[0;34m.\u001b[0m\u001b[0mplot\u001b[0m\u001b[0;34m(\u001b[0m\u001b[0mhistorial\u001b[0m\u001b[0;34m.\u001b[0m\u001b[0mhistory\u001b[0m\u001b[0;34m[\u001b[0m\u001b[0;34m'val_loss'\u001b[0m\u001b[0;34m]\u001b[0m\u001b[0;34m)\u001b[0m\u001b[0;34m\u001b[0m\u001b[0;34m\u001b[0m\u001b[0m\n\u001b[1;32m      4\u001b[0m \u001b[0mplt\u001b[0m\u001b[0;34m.\u001b[0m\u001b[0mtitle\u001b[0m\u001b[0;34m(\u001b[0m\u001b[0;34m'Pérdida del modelo'\u001b[0m\u001b[0;34m)\u001b[0m\u001b[0;34m\u001b[0m\u001b[0;34m\u001b[0m\u001b[0m\n\u001b[1;32m      5\u001b[0m \u001b[0mplt\u001b[0m\u001b[0;34m.\u001b[0m\u001b[0mylabel\u001b[0m\u001b[0;34m(\u001b[0m\u001b[0;34m'Pérdida'\u001b[0m\u001b[0;34m)\u001b[0m\u001b[0;34m\u001b[0m\u001b[0;34m\u001b[0m\u001b[0m\n",
            "\u001b[0;31mNameError\u001b[0m: name 'historial' is not defined"
          ]
        }
      ]
    }
  ]
}